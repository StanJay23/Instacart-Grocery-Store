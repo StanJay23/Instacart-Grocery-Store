{
 "cells": [
  {
   "cell_type": "markdown",
   "id": "599c51d6",
   "metadata": {},
   "source": [
    "#Table Content\n",
    "1. Importing Libraries & Data\n",
    "2. Security Data Check\n",
    "3. Regional Segment\n",
    "4. Customers with low income\n",
    "5. Exporting Dataframes"
   ]
  },
  {
   "cell_type": "code",
   "execution_count": 1,
   "id": "1165f889",
   "metadata": {},
   "outputs": [],
   "source": [
    "#Import libraries\n",
    "import pandas as pd\n",
    "import numpy as np\n",
    "import os\n",
    "import matplotlib.pyplot as plt\n",
    "import seaborn as sns\n",
    "import scipy"
   ]
  },
  {
   "cell_type": "code",
   "execution_count": 2,
   "id": "e6cce3fd",
   "metadata": {},
   "outputs": [],
   "source": [
    "#create pathway to import data\n",
    "\n",
    "path = r'/Users/office/Desktop/Instacart Basket Analysis'"
   ]
  },
  {
   "cell_type": "code",
   "execution_count": 3,
   "id": "11196f8d",
   "metadata": {},
   "outputs": [
    {
     "data": {
      "text/html": [
       "<div>\n",
       "<style scoped>\n",
       "    .dataframe tbody tr th:only-of-type {\n",
       "        vertical-align: middle;\n",
       "    }\n",
       "\n",
       "    .dataframe tbody tr th {\n",
       "        vertical-align: top;\n",
       "    }\n",
       "\n",
       "    .dataframe thead th {\n",
       "        text-align: right;\n",
       "    }\n",
       "</style>\n",
       "<table border=\"1\" class=\"dataframe\">\n",
       "  <thead>\n",
       "    <tr style=\"text-align: right;\">\n",
       "      <th></th>\n",
       "      <th>order_id</th>\n",
       "      <th>user_id</th>\n",
       "      <th>order_number</th>\n",
       "      <th>orders_day_of_week</th>\n",
       "      <th>order_hour_of_day</th>\n",
       "      <th>days_since_prior_order</th>\n",
       "      <th>product_id</th>\n",
       "      <th>add_to_cart_order</th>\n",
       "      <th>reordered</th>\n",
       "      <th>product_name</th>\n",
       "      <th>...</th>\n",
       "      <th>first name</th>\n",
       "      <th>last name</th>\n",
       "      <th>gender</th>\n",
       "      <th>state</th>\n",
       "      <th>age</th>\n",
       "      <th>date_joined</th>\n",
       "      <th>n_dependants</th>\n",
       "      <th>fam_status</th>\n",
       "      <th>income</th>\n",
       "      <th>_merge</th>\n",
       "    </tr>\n",
       "  </thead>\n",
       "  <tbody>\n",
       "    <tr>\n",
       "      <th>0</th>\n",
       "      <td>2539329</td>\n",
       "      <td>1</td>\n",
       "      <td>1</td>\n",
       "      <td>2</td>\n",
       "      <td>8</td>\n",
       "      <td>NaN</td>\n",
       "      <td>196</td>\n",
       "      <td>1</td>\n",
       "      <td>0</td>\n",
       "      <td>Soda</td>\n",
       "      <td>...</td>\n",
       "      <td>Linda</td>\n",
       "      <td>Nguyen</td>\n",
       "      <td>Female</td>\n",
       "      <td>Alabama</td>\n",
       "      <td>31</td>\n",
       "      <td>2019-02-17</td>\n",
       "      <td>3</td>\n",
       "      <td>married</td>\n",
       "      <td>40423</td>\n",
       "      <td>both</td>\n",
       "    </tr>\n",
       "    <tr>\n",
       "      <th>1</th>\n",
       "      <td>2398795</td>\n",
       "      <td>1</td>\n",
       "      <td>2</td>\n",
       "      <td>3</td>\n",
       "      <td>7</td>\n",
       "      <td>15.0</td>\n",
       "      <td>196</td>\n",
       "      <td>1</td>\n",
       "      <td>1</td>\n",
       "      <td>Soda</td>\n",
       "      <td>...</td>\n",
       "      <td>Linda</td>\n",
       "      <td>Nguyen</td>\n",
       "      <td>Female</td>\n",
       "      <td>Alabama</td>\n",
       "      <td>31</td>\n",
       "      <td>2019-02-17</td>\n",
       "      <td>3</td>\n",
       "      <td>married</td>\n",
       "      <td>40423</td>\n",
       "      <td>both</td>\n",
       "    </tr>\n",
       "    <tr>\n",
       "      <th>2</th>\n",
       "      <td>473747</td>\n",
       "      <td>1</td>\n",
       "      <td>3</td>\n",
       "      <td>3</td>\n",
       "      <td>12</td>\n",
       "      <td>21.0</td>\n",
       "      <td>196</td>\n",
       "      <td>1</td>\n",
       "      <td>1</td>\n",
       "      <td>Soda</td>\n",
       "      <td>...</td>\n",
       "      <td>Linda</td>\n",
       "      <td>Nguyen</td>\n",
       "      <td>Female</td>\n",
       "      <td>Alabama</td>\n",
       "      <td>31</td>\n",
       "      <td>2019-02-17</td>\n",
       "      <td>3</td>\n",
       "      <td>married</td>\n",
       "      <td>40423</td>\n",
       "      <td>both</td>\n",
       "    </tr>\n",
       "    <tr>\n",
       "      <th>3</th>\n",
       "      <td>2254736</td>\n",
       "      <td>1</td>\n",
       "      <td>4</td>\n",
       "      <td>4</td>\n",
       "      <td>7</td>\n",
       "      <td>29.0</td>\n",
       "      <td>196</td>\n",
       "      <td>1</td>\n",
       "      <td>1</td>\n",
       "      <td>Soda</td>\n",
       "      <td>...</td>\n",
       "      <td>Linda</td>\n",
       "      <td>Nguyen</td>\n",
       "      <td>Female</td>\n",
       "      <td>Alabama</td>\n",
       "      <td>31</td>\n",
       "      <td>2019-02-17</td>\n",
       "      <td>3</td>\n",
       "      <td>married</td>\n",
       "      <td>40423</td>\n",
       "      <td>both</td>\n",
       "    </tr>\n",
       "    <tr>\n",
       "      <th>4</th>\n",
       "      <td>431534</td>\n",
       "      <td>1</td>\n",
       "      <td>5</td>\n",
       "      <td>4</td>\n",
       "      <td>15</td>\n",
       "      <td>28.0</td>\n",
       "      <td>196</td>\n",
       "      <td>1</td>\n",
       "      <td>1</td>\n",
       "      <td>Soda</td>\n",
       "      <td>...</td>\n",
       "      <td>Linda</td>\n",
       "      <td>Nguyen</td>\n",
       "      <td>Female</td>\n",
       "      <td>Alabama</td>\n",
       "      <td>31</td>\n",
       "      <td>2019-02-17</td>\n",
       "      <td>3</td>\n",
       "      <td>married</td>\n",
       "      <td>40423</td>\n",
       "      <td>both</td>\n",
       "    </tr>\n",
       "  </tbody>\n",
       "</table>\n",
       "<p>5 rows × 33 columns</p>\n",
       "</div>"
      ],
      "text/plain": [
       "   order_id user_id  order_number  orders_day_of_week  order_hour_of_day  \\\n",
       "0   2539329       1             1                   2                  8   \n",
       "1   2398795       1             2                   3                  7   \n",
       "2    473747       1             3                   3                 12   \n",
       "3   2254736       1             4                   4                  7   \n",
       "4    431534       1             5                   4                 15   \n",
       "\n",
       "   days_since_prior_order  product_id  add_to_cart_order  reordered  \\\n",
       "0                     NaN         196                  1          0   \n",
       "1                    15.0         196                  1          1   \n",
       "2                    21.0         196                  1          1   \n",
       "3                    29.0         196                  1          1   \n",
       "4                    28.0         196                  1          1   \n",
       "\n",
       "  product_name  ...  first name  last name  gender    state age date_joined  \\\n",
       "0         Soda  ...       Linda     Nguyen  Female  Alabama  31  2019-02-17   \n",
       "1         Soda  ...       Linda     Nguyen  Female  Alabama  31  2019-02-17   \n",
       "2         Soda  ...       Linda     Nguyen  Female  Alabama  31  2019-02-17   \n",
       "3         Soda  ...       Linda     Nguyen  Female  Alabama  31  2019-02-17   \n",
       "4         Soda  ...       Linda     Nguyen  Female  Alabama  31  2019-02-17   \n",
       "\n",
       "  n_dependants  fam_status income  _merge  \n",
       "0            3     married  40423    both  \n",
       "1            3     married  40423    both  \n",
       "2            3     married  40423    both  \n",
       "3            3     married  40423    both  \n",
       "4            3     married  40423    both  \n",
       "\n",
       "[5 rows x 33 columns]"
      ]
     },
     "execution_count": 3,
     "metadata": {},
     "output_type": "execute_result"
    }
   ],
   "source": [
    "#import data\n",
    "\n",
    "ords_prods = pd.read_pickle(os.path.join(path,'02 Data','Prepared Data','ords_prods_customers_left.pkl'))\n",
    "ords_prods.head()"
   ]
  },
  {
   "cell_type": "markdown",
   "id": "ef5974ab",
   "metadata": {},
   "source": [
    "#02 Checking dataframe for PII data and security"
   ]
  },
  {
   "cell_type": "code",
   "execution_count": 5,
   "id": "1ce6188b",
   "metadata": {},
   "outputs": [
    {
     "data": {
      "text/plain": [
       "Index(['order_id', 'user_id', 'order_number', 'orders_day_of_week',\n",
       "       'order_hour_of_day', 'days_since_prior_order', 'product_id',\n",
       "       'add_to_cart_order', 'reordered', 'product_name', 'aisle_id',\n",
       "       'department_id', 'prices', 'price_range_loc', 'busiest day',\n",
       "       'busiest_days', 'busiest_period_of_day', 'max_order', 'loyalty_flag',\n",
       "       'mean_spend', 'spender_flag', 'median_order_frequency',\n",
       "       'order_frequency_flag', 'first name', 'last name', 'gender', 'state',\n",
       "       'age', 'date_joined', 'n_dependants', 'fam_status', 'income', '_merge'],\n",
       "      dtype='object')"
      ]
     },
     "execution_count": 5,
     "metadata": {},
     "output_type": "execute_result"
    }
   ],
   "source": [
    "ords_prods.columns"
   ]
  },
  {
   "cell_type": "code",
   "execution_count": 9,
   "id": "84965fd4",
   "metadata": {},
   "outputs": [
    {
     "data": {
      "text/plain": [
       "Index(['order_id', 'user_id', 'order_number', 'orders_day_of_week',\n",
       "       'order_hour_of_day', 'days_since_prior_order', 'product_id',\n",
       "       'add_to_cart_order', 'reordered', 'product_name', 'aisle_id',\n",
       "       'department_id', 'prices', 'price_range_loc', 'busiest day',\n",
       "       'busiest_days', 'busiest_period_of_day', 'max_order', 'loyalty_flag',\n",
       "       'mean_spend', 'spender_flag', 'median_order_frequency',\n",
       "       'order_frequency_flag', 'gender', 'state', 'age', 'date_joined',\n",
       "       'n_dependants', 'fam_status', 'income'],\n",
       "      dtype='object')"
      ]
     },
     "execution_count": 9,
     "metadata": {},
     "output_type": "execute_result"
    }
   ],
   "source": [
    "#dropping columns for PII 'first name' and 'last name'\n",
    "\n",
    "ords_prods.drop(columns=['first name','last name'], inplace=True)\n",
    "ords_prods.columns\n"
   ]
  },
  {
   "cell_type": "markdown",
   "id": "7d3dd62f",
   "metadata": {},
   "source": [
    "#03. Creating Region column from the state column"
   ]
  },
  {
   "cell_type": "code",
   "execution_count": 10,
   "id": "d9f6b51d",
   "metadata": {},
   "outputs": [
    {
     "data": {
      "text/plain": [
       "state\n",
       "Pennsylvania            667710\n",
       "California              660447\n",
       "Rhode Island            657655\n",
       "Georgia                 657072\n",
       "New Mexico              655143\n",
       "Arizona                 654545\n",
       "North Carolina          652338\n",
       "Oklahoma                652263\n",
       "Alaska                  649020\n",
       "Minnesota               648408\n",
       "Massachusetts           647000\n",
       "Wyoming                 644929\n",
       "Virginia                642075\n",
       "Missouri                641313\n",
       "Texas                   641058\n",
       "Colorado                639752\n",
       "Maine                   639149\n",
       "North Dakota            638999\n",
       "Alabama                 638617\n",
       "Louisiana               638174\n",
       "Kansas                  637991\n",
       "Delaware                637447\n",
       "South Carolina          637348\n",
       "Oregon                  636949\n",
       "Arkansas                636706\n",
       "New York                636697\n",
       "Nevada                  636697\n",
       "Montana                 635835\n",
       "South Dakota            634340\n",
       "Illinois                633490\n",
       "Hawaii                  633445\n",
       "Washington              633421\n",
       "Mississippi             633103\n",
       "Kentucky                632905\n",
       "Michigan                631622\n",
       "Florida                 629582\n",
       "Ohio                    629001\n",
       "Wisconsin               628552\n",
       "New Jersey              628292\n",
       "Indiana                 627768\n",
       "Maryland                627278\n",
       "Nebraska                626297\n",
       "Iowa                    626029\n",
       "Connecticut             623582\n",
       "Tennessee               618396\n",
       "New Hampshire           616006\n",
       "District of Columbia    614293\n",
       "West Virginia           612955\n",
       "Utah                    612451\n",
       "Vermont                 612256\n",
       "Idaho                   607811\n",
       "Name: count, dtype: int64"
      ]
     },
     "execution_count": 10,
     "metadata": {},
     "output_type": "execute_result"
    }
   ],
   "source": [
    "#Check states\n",
    "\n",
    "ords_prods['state'].value_counts(dropna = False)"
   ]
  },
  {
   "cell_type": "markdown",
   "id": "3939fbc6",
   "metadata": {},
   "source": [
    "#Create Region"
   ]
  },
  {
   "cell_type": "code",
   "execution_count": 11,
   "id": "005217c4",
   "metadata": {},
   "outputs": [],
   "source": [
    "Northeast = ['Maine','New Hampshire','Vermont','Massachusetts','Rhode Island','Connecticut','New York','Pennsylvania','New Jersey']"
   ]
  },
  {
   "cell_type": "code",
   "execution_count": 13,
   "id": "054a29fc",
   "metadata": {},
   "outputs": [],
   "source": [
    "Midwest = ['Wisconsin', 'Michigan', 'Illinois', 'Indiana', 'Ohio', 'North Dakota', 'South Dakota', 'Nebraska', 'Kansas', 'Minnesota', 'Iowa', 'Missouri']"
   ]
  },
  {
   "cell_type": "code",
   "execution_count": 14,
   "id": "71f69cc6",
   "metadata": {},
   "outputs": [],
   "source": [
    "South = ['Delaware', 'Maryland', 'District of Columbia', 'Virginia', 'West Virginia', 'North Carolina', 'South Carolina', 'Georgia', 'Florida', 'Kentucky', 'Tennessee', 'Mississippi', 'Alabama', 'Oklahoma', 'Texas', 'Arkansas', 'Louisiana']"
   ]
  },
  {
   "cell_type": "code",
   "execution_count": 15,
   "id": "d54548eb",
   "metadata": {},
   "outputs": [],
   "source": [
    "West = ['Idaho', 'Montana', 'Wyoming', 'Nevada', 'Utah', 'Colorado', 'Arizona', 'New Mexico', 'Alaska', 'Washington', 'Oregon', 'California', 'Hawaii']"
   ]
  },
  {
   "cell_type": "code",
   "execution_count": 16,
   "id": "1b794010",
   "metadata": {},
   "outputs": [],
   "source": [
    "ords_prods.loc[ords_prods['state'].isin(Northeast), 'region'] = 'Northeast'"
   ]
  },
  {
   "cell_type": "code",
   "execution_count": 17,
   "id": "e1b7eb5b",
   "metadata": {},
   "outputs": [],
   "source": [
    "ords_prods.loc[ords_prods['state'].isin(Midwest), 'region'] = 'Midwest'"
   ]
  },
  {
   "cell_type": "code",
   "execution_count": 18,
   "id": "28095c50",
   "metadata": {},
   "outputs": [],
   "source": [
    "ords_prods.loc[ords_prods['state'].isin(South), 'region'] = 'South'"
   ]
  },
  {
   "cell_type": "code",
   "execution_count": 19,
   "id": "144130d1",
   "metadata": {},
   "outputs": [],
   "source": [
    "ords_prods.loc[ords_prods['state'].isin(West), 'region'] = 'West'"
   ]
  },
  {
   "cell_type": "code",
   "execution_count": 20,
   "id": "cd7bbaba",
   "metadata": {},
   "outputs": [
    {
     "data": {
      "text/plain": [
       "region\n",
       "South        10801610\n",
       "West          8300445\n",
       "Midwest       7603810\n",
       "Northeast     5728347\n",
       "Name: count, dtype: int64"
      ]
     },
     "execution_count": 20,
     "metadata": {},
     "output_type": "execute_result"
    }
   ],
   "source": [
    "ords_prods['region'].value_counts(dropna = False)"
   ]
  },
  {
   "cell_type": "code",
   "execution_count": 21,
   "id": "8c76b845",
   "metadata": {},
   "outputs": [],
   "source": [
    "#Create a crosstab to find out whether there’s a difference in spending habits between the different U.S. regions\n",
    "\n",
    "\n",
    "region_crosstab = pd.crosstab(ords_prods['spender_flag'], ords_prods['region'], dropna = False)"
   ]
  },
  {
   "cell_type": "code",
   "execution_count": 22,
   "id": "9c316784",
   "metadata": {},
   "outputs": [
    {
     "data": {
      "text/html": [
       "<div>\n",
       "<style scoped>\n",
       "    .dataframe tbody tr th:only-of-type {\n",
       "        vertical-align: middle;\n",
       "    }\n",
       "\n",
       "    .dataframe tbody tr th {\n",
       "        vertical-align: top;\n",
       "    }\n",
       "\n",
       "    .dataframe thead th {\n",
       "        text-align: right;\n",
       "    }\n",
       "</style>\n",
       "<table border=\"1\" class=\"dataframe\">\n",
       "  <thead>\n",
       "    <tr style=\"text-align: right;\">\n",
       "      <th>region</th>\n",
       "      <th>Midwest</th>\n",
       "      <th>Northeast</th>\n",
       "      <th>South</th>\n",
       "      <th>West</th>\n",
       "    </tr>\n",
       "    <tr>\n",
       "      <th>spender_flag</th>\n",
       "      <th></th>\n",
       "      <th></th>\n",
       "      <th></th>\n",
       "      <th></th>\n",
       "    </tr>\n",
       "  </thead>\n",
       "  <tbody>\n",
       "    <tr>\n",
       "      <th>High spender</th>\n",
       "      <td>156129</td>\n",
       "      <td>108343</td>\n",
       "      <td>210182</td>\n",
       "      <td>160807</td>\n",
       "    </tr>\n",
       "    <tr>\n",
       "      <th>Low spender</th>\n",
       "      <td>7447681</td>\n",
       "      <td>5620004</td>\n",
       "      <td>10591428</td>\n",
       "      <td>8139638</td>\n",
       "    </tr>\n",
       "  </tbody>\n",
       "</table>\n",
       "</div>"
      ],
      "text/plain": [
       "region        Midwest  Northeast     South     West\n",
       "spender_flag                                       \n",
       "High spender   156129     108343    210182   160807\n",
       "Low spender   7447681    5620004  10591428  8139638"
      ]
     },
     "execution_count": 22,
     "metadata": {},
     "output_type": "execute_result"
    }
   ],
   "source": [
    "#check\n",
    "\n",
    "region_crosstab"
   ]
  },
  {
   "cell_type": "code",
   "execution_count": 23,
   "id": "52a3a755",
   "metadata": {},
   "outputs": [],
   "source": [
    "region_crosstab.to_clipboard()"
   ]
  },
  {
   "cell_type": "markdown",
   "id": "19de5da2",
   "metadata": {},
   "source": [
    "#04 Create an exclusion flag for low-activity customers (customers with less than 5 orders) and exclude them from the data"
   ]
  },
  {
   "cell_type": "code",
   "execution_count": 30,
   "id": "a5ee57aa",
   "metadata": {},
   "outputs": [],
   "source": [
    "#create exclusion flag for low activity customers\n",
    "\n",
    "ords_prods.loc[ords_prods['max_order'] <5, 'activity_flag'] =  'low activity'"
   ]
  },
  {
   "cell_type": "code",
   "execution_count": 28,
   "id": "24282612",
   "metadata": {},
   "outputs": [],
   "source": [
    "ords_prods.loc[ords_prods['max_order'] >-5, 'activity_flag'] =  'normal activity'"
   ]
  },
  {
   "cell_type": "code",
   "execution_count": 31,
   "id": "c76b0368",
   "metadata": {},
   "outputs": [
    {
     "data": {
      "text/plain": [
       "activity_flag\n",
       "normal activity    30992664\n",
       "low activity        1441548\n",
       "Name: count, dtype: int64"
      ]
     },
     "execution_count": 31,
     "metadata": {},
     "output_type": "execute_result"
    }
   ],
   "source": [
    "#checking flag\n",
    "\n",
    "ords_prods['activity_flag'].value_counts(dropna = False)"
   ]
  },
  {
   "cell_type": "code",
   "execution_count": 27,
   "id": "70265541",
   "metadata": {},
   "outputs": [
    {
     "data": {
      "text/plain": [
       "(32434212, 32)"
      ]
     },
     "execution_count": 27,
     "metadata": {},
     "output_type": "execute_result"
    }
   ],
   "source": [
    "ords_prods.shape"
   ]
  },
  {
   "cell_type": "code",
   "execution_count": 33,
   "id": "8da3795a",
   "metadata": {},
   "outputs": [],
   "source": [
    "#create subset of low_activity customers\n",
    "\n",
    "df_low_activity = ords_prods[ords_prods['activity_flag'] =='low activity']"
   ]
  },
  {
   "cell_type": "code",
   "execution_count": 34,
   "id": "b91e7e43",
   "metadata": {},
   "outputs": [],
   "source": [
    "#create a subset for normal activity customers\n",
    "\n",
    "df_normal_activity = ords_prods[ords_prods['activity_flag'] =='normal activity']"
   ]
  },
  {
   "cell_type": "code",
   "execution_count": 35,
   "id": "252e3611",
   "metadata": {},
   "outputs": [
    {
     "data": {
      "text/plain": [
       "32434212"
      ]
     },
     "execution_count": 35,
     "metadata": {},
     "output_type": "execute_result"
    }
   ],
   "source": [
    "#Check sum of both subsets\n",
    "\n",
    "len(df_low_activity) + len(df_normal_activity)"
   ]
  },
  {
   "cell_type": "markdown",
   "id": "91b70d22",
   "metadata": {},
   "source": [
    "#05. Exporting Dataframes"
   ]
  },
  {
   "cell_type": "code",
   "execution_count": 36,
   "id": "3c5b7031",
   "metadata": {},
   "outputs": [],
   "source": [
    "#Export normal activity customers dataframe\n",
    "\n",
    "df_low_activity.to_pickle(os.path.join(path, '02 Data','Prepared Data', 'ords_prods_low_activity.pkl'))"
   ]
  },
  {
   "cell_type": "code",
   "execution_count": null,
   "id": "2eb61568",
   "metadata": {},
   "outputs": [],
   "source": []
  }
 ],
 "metadata": {
  "kernelspec": {
   "display_name": "Python 3 (ipykernel)",
   "language": "python",
   "name": "python3"
  },
  "language_info": {
   "codemirror_mode": {
    "name": "ipython",
    "version": 3
   },
   "file_extension": ".py",
   "mimetype": "text/x-python",
   "name": "python",
   "nbconvert_exporter": "python",
   "pygments_lexer": "ipython3",
   "version": "3.11.5"
  }
 },
 "nbformat": 4,
 "nbformat_minor": 5
}
